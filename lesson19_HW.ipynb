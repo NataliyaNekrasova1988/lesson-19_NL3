{
 "cells": [
  {
   "cell_type": "markdown",
   "id": "7a475cd9-f1f1-4792-9713-38f679eb1afe",
   "metadata": {},
   "source": [
    "    -Обучить полносвязную модель на MNIST\n",
    "    -Обучить глубокую сверточную сеть на MNIST\n",
    "    -*обучить с нуля глубокую сеть на небольшом датасете. Сравнить результат с дообучением передобученной сети"
   ]
  },
  {
   "cell_type": "code",
   "execution_count": 4,
   "id": "51070422-344c-4eea-b00c-0cb5bfa65f22",
   "metadata": {},
   "outputs": [],
   "source": [
    "#пайплайн для того, чтобы что-то обучить:\n",
    "# архитектура модели +\n",
    "# загрузчик данных +\n",
    "# формирование батча +\n",
    "# оптимизатор +\n",
    "# функция потерь +\n",
    "# опционально шедулеры - (повышать или понижать lr)\n",
    "# трейн луп или цикл обучения"
   ]
  },
  {
   "cell_type": "code",
   "execution_count": 1,
   "id": "a57041a1-b8c4-4300-b88a-d4d89813d4cb",
   "metadata": {},
   "outputs": [],
   "source": [
    "import numpy\n",
    "import torch\n",
    "import torch.nn as nn\n",
    "import torchvision.models as models\n",
    "from torchvision import datasets, transforms\n",
    "from torch.utils.data import DataLoader\n",
    "import matplotlib.pyplot as plt"
   ]
  },
  {
   "cell_type": "markdown",
   "id": "fac92193-adc8-4099-965c-2659c91dec10",
   "metadata": {},
   "source": [
    "<style>\n",
    "mark{\n",
    "    background-color: red\n",
    "}\n",
    "</style>\n",
    "<mark>1. Обучить полносвязную модель на MNIST:</mark>\n",
    "\n"
   ]
  },
  {
   "cell_type": "markdown",
   "id": "e686baac-1406-499c-9cf8-f80847e934af",
   "metadata": {},
   "source": [
    "\n",
    "<style>\n",
    "mark{\n",
    "    background-color: red\n",
    "}\n",
    "</style>\n",
    "<mark>Архитектура модели:</mark>\n"
   ]
  },
  {
   "cell_type": "code",
   "execution_count": 3,
   "id": "8d8b11e2-025a-472a-9c70-d4ff7f86a9be",
   "metadata": {},
   "outputs": [],
   "source": [
    "class LinearModel(nn.Module):                               # наследуемся от nn.Module\n",
    "    def __init__(self, input_dim, hidden_dim, output_dim, dropout_p=0.2):\n",
    "        super().__init__()                                  # инициализация родителя\n",
    "        self.linear1 = nn.Linear(input_dim, hidden_dim) #1-й слой принимает некот.входную размерность input_dim  и отображает её в hidden_dim\n",
    "        nn.init.xavier_normal_(self.linear1.weight)         \n",
    "        self.activation1 = nn.Sigmoid()\n",
    "        self.do1 = nn.Dropout(dropout_p)\n",
    "        self.linear2 = nn.Linear(hidden_dim, hidden_dim)    # вход след слоя должен равняться выходу предыдущего\n",
    "        self.activation2 = nn.Sigmoid()\n",
    "        self.do2 = nn.Dropout(dropout_p)\n",
    "        self.linear3 = nn.Linear(hidden_dim, output_dim)\n",
    "\n",
    "    def forward(self, x):                                   # на форвард приходят фичи x - картинка, вытянутая в вектор\n",
    "        x = self.linear1(x)\n",
    "        x = self.activation1(x)\n",
    "        x = self.do1(x)\n",
    "        x = self.linear2(x)\n",
    "        x = self.activation2(x)\n",
    "        x = self.do2(x)\n",
    "        x = self.linear3(x)     \n",
    "\n",
    "        return x"
   ]
  },
  {
   "cell_type": "code",
   "execution_count": null,
   "id": "468fefb2-38f1-45d0-a8a6-71c1374f5476",
   "metadata": {},
   "outputs": [],
   "source": []
  },
  {
   "cell_type": "markdown",
   "id": "cd0f8bfa-7a35-4c15-877a-f65d96a66c02",
   "metadata": {},
   "source": [
    "<style>\n",
    "mark{\n",
    "    background-color: red\n",
    "}\n",
    "</style>\n",
    "<mark>Загрузчик данных:</mark>\n",
    "\n"
   ]
  },
  {
   "cell_type": "code",
   "execution_count": 5,
   "id": "dbbb5d90-2f65-438f-9580-91637677aa8d",
   "metadata": {},
   "outputs": [],
   "source": [
    "# скачивание обучающего датасета\n",
    "dataset_train = datasets.MNIST('.', train=True, download=True)\n",
    "\n",
    "# скачивание тестового датасета\n",
    "dataset_test = datasets.MNIST('.', train=False, download=True)"
   ]
  },
  {
   "cell_type": "code",
   "execution_count": 7,
   "id": "b77f3436-f1b1-4de6-a283-d9286866c322",
   "metadata": {},
   "outputs": [],
   "source": [
    "#смотрим, что у нас в датасете: это кортеж,который состоит из картинки и метки, что это 5"
   ]
  },
  {
   "cell_type": "code",
   "execution_count": 9,
   "id": "b0f32fbe-b338-478b-957a-49be5012dbc3",
   "metadata": {},
   "outputs": [
    {
     "data": {
      "text/plain": [
       "(<PIL.Image.Image image mode=L size=28x28>, 5)"
      ]
     },
     "execution_count": 9,
     "metadata": {},
     "output_type": "execute_result"
    }
   ],
   "source": [
    "dataset_train[0]"
   ]
  },
  {
   "cell_type": "code",
   "execution_count": null,
   "id": "29039630-73ad-4388-b453-e6b24c069363",
   "metadata": {},
   "outputs": [],
   "source": []
  },
  {
   "cell_type": "markdown",
   "id": "e77fe0e2-7e8e-4d49-9a92-2571e3a02fc1",
   "metadata": {},
   "source": [
    "<style>\n",
    "mark{\n",
    "    background-color: red\n",
    "}\n",
    "</style>\n",
    "<mark>Формирование батча:</mark>\n",
    "\n"
   ]
  },
  {
   "cell_type": "code",
   "execution_count": 13,
   "id": "990305db-ed10-4e1c-8dcd-b7b03aa9ed37",
   "metadata": {},
   "outputs": [],
   "source": [
    "def collate_fn(data: list):                             # из списка обучающих примеров формирует нам готовый для обучения батч\n",
    "  # data = [(pic, target)...]                           # это картинка и target-лейбл.Нам нужно сформировать из них батч\n",
    "                                                    #collate_fn разбирает кортеж: картинки складывает в \"picх\", targetы складывает в \"target\"\n",
    "                                                        #и выводит нам словарик 'data' и 'target'\n",
    "  pics = []\n",
    "  target = []\n",
    "\n",
    "  # в цикле формируются списки с картинками и таргетами для каждого индекса, поданного на вход \n",
    "  for item in data:                \n",
    "    pics.append(numpy.array(item[0]))\n",
    "    target.append(item[1])    \n",
    "\n",
    "  # картинки преобразовываются в торчтензор, который имеет размер батч x ширина x высота\n",
    "  # нормирование данных (интенсивность 0-255 приводится к 0-1)  \n",
    "  pics = torch.from_numpy(numpy.array(pics)).float() / 255 # B x W x H\n",
    "  target = torch.from_numpy(numpy.array(target))\n",
    "\n",
    "  return {\n",
    "      'data': pics.view(pics.size(0), -1),              # происходит вытягивание картинок в вектор\n",
    "      'target': target,                                 # преобразуем матрицу 28х28 в вектор 784 (линейный слой не работает с матрицами)\n",
    "      }\n"
   ]
  },
  {
   "cell_type": "code",
   "execution_count": null,
   "id": "eaa3d10d-6ce6-4a58-8cdf-6475fbfb9d30",
   "metadata": {},
   "outputs": [],
   "source": []
  },
  {
   "cell_type": "markdown",
   "id": "8d2bd97c-4ab3-4064-a25d-f0fda2cf940b",
   "metadata": {},
   "source": [
    "<style>\n",
    "mark{\n",
    "    background-color: red\n",
    "}\n",
    "</style>\n",
    "<mark>Оптимизатор:</mark>\n"
   ]
  },
  {
   "cell_type": "code",
   "execution_count": 14,
   "id": "04605ded-4298-4d15-b617-112f5cc525c1",
   "metadata": {},
   "outputs": [],
   "source": [
    "inp_dim = 28 * 28\n",
    "hidden = 256\n",
    "out_dim = 10\n",
    "device_id = -1\n",
    "device = 'mps' if device_id == -1 else f'cuda:{device_id}' # 'cuda:1' id GPU\n",
    "n_epochs = 20\n",
    "batch_size = 128"
   ]
  },
  {
   "cell_type": "code",
   "execution_count": null,
   "id": "265db886-562f-493c-922b-e3dff0ddc948",
   "metadata": {},
   "outputs": [],
   "source": []
  },
  {
   "cell_type": "markdown",
   "id": "bafbec3c-3711-46f4-8f32-11078d37134c",
   "metadata": {},
   "source": [
    "\n",
    "<style>\n",
    "mark{\n",
    "    background-color: red\n",
    "}\n",
    "</style>\n",
    "<mark> Инициализация модели, задание оптимизатора и функции потерь:</mark>\n"
   ]
  },
  {
   "cell_type": "code",
   "execution_count": 19,
   "id": "31c7618b-9c85-4b8a-a190-e351b7ab7f99",
   "metadata": {},
   "outputs": [],
   "source": [
    "model = LinearModel(inp_dim, hidden, out_dim).to(device)\n",
    "optim = torch.optim.Adam(model.parameters()) # Adam с параметрами по умолчанию\n",
    "loss_func = nn.CrossEntropyLoss()   # функция потерь CrossEntropyLoss (для многоклассовой классификации)"
   ]
  },
  {
   "cell_type": "code",
   "execution_count": 20,
   "id": "e708a967-8a05-4302-9647-f9c181b89220",
   "metadata": {},
   "outputs": [
    {
     "name": "stdout",
     "output_type": "stream",
     "text": [
      "epoch: 0, step: 0, loss_dataset_train: 2.2919769287109375\n",
      "epoch: 0, step: 200, loss_dataset_train: 0.43682172894477844\n",
      "epoch: 0, step: 400, loss_dataset_train: 0.29273897409439087\n",
      "epoch: 0, loss_dataset_test: 0.27486464381217957\n",
      "\n",
      "epoch: 1, step: 0, loss_dataset_train: 0.26610028743743896\n",
      "epoch: 1, step: 200, loss_dataset_train: 0.20576508343219757\n",
      "epoch: 1, step: 400, loss_dataset_train: 0.159579798579216\n",
      "epoch: 1, loss_dataset_test: 0.19716010987758636\n",
      "\n",
      "epoch: 2, step: 0, loss_dataset_train: 0.25109297037124634\n",
      "epoch: 2, step: 200, loss_dataset_train: 0.3450363874435425\n",
      "epoch: 2, step: 400, loss_dataset_train: 0.19798389077186584\n",
      "epoch: 2, loss_dataset_test: 0.15459519624710083\n",
      "\n",
      "epoch: 3, step: 0, loss_dataset_train: 0.18133874237537384\n",
      "epoch: 3, step: 200, loss_dataset_train: 0.209319606423378\n",
      "epoch: 3, step: 400, loss_dataset_train: 0.1998668909072876\n",
      "epoch: 3, loss_dataset_test: 0.12914840877056122\n",
      "\n",
      "epoch: 4, step: 0, loss_dataset_train: 0.09219477325677872\n",
      "epoch: 4, step: 200, loss_dataset_train: 0.10745623707771301\n",
      "epoch: 4, step: 400, loss_dataset_train: 0.09624756872653961\n",
      "epoch: 4, loss_dataset_test: 0.1114831268787384\n",
      "\n",
      "epoch: 5, step: 0, loss_dataset_train: 0.07764533162117004\n",
      "epoch: 5, step: 200, loss_dataset_train: 0.07228410989046097\n",
      "epoch: 5, step: 400, loss_dataset_train: 0.16511204838752747\n",
      "epoch: 5, loss_dataset_test: 0.09908245503902435\n",
      "\n",
      "epoch: 6, step: 0, loss_dataset_train: 0.08042725920677185\n",
      "epoch: 6, step: 200, loss_dataset_train: 0.21235868334770203\n",
      "epoch: 6, step: 400, loss_dataset_train: 0.14328397810459137\n",
      "epoch: 6, loss_dataset_test: 0.08832679688930511\n",
      "\n",
      "epoch: 7, step: 0, loss_dataset_train: 0.10999411344528198\n",
      "epoch: 7, step: 200, loss_dataset_train: 0.11515548825263977\n",
      "epoch: 7, step: 400, loss_dataset_train: 0.05215190351009369\n",
      "epoch: 7, loss_dataset_test: 0.08320307731628418\n",
      "\n",
      "epoch: 8, step: 0, loss_dataset_train: 0.11712070554494858\n",
      "epoch: 8, step: 200, loss_dataset_train: 0.040092624723911285\n",
      "epoch: 8, step: 400, loss_dataset_train: 0.0617799237370491\n",
      "epoch: 8, loss_dataset_test: 0.08108287304639816\n",
      "\n",
      "epoch: 9, step: 0, loss_dataset_train: 0.06725846230983734\n",
      "epoch: 9, step: 200, loss_dataset_train: 0.0782933235168457\n",
      "epoch: 9, step: 400, loss_dataset_train: 0.020186256617307663\n",
      "epoch: 9, loss_dataset_test: 0.07625273615121841\n",
      "\n",
      "epoch: 10, step: 0, loss_dataset_train: 0.04665905237197876\n",
      "epoch: 10, step: 200, loss_dataset_train: 0.012800151482224464\n",
      "epoch: 10, step: 400, loss_dataset_train: 0.08109069615602493\n",
      "epoch: 10, loss_dataset_test: 0.07278088480234146\n",
      "\n",
      "epoch: 11, step: 0, loss_dataset_train: 0.01760173588991165\n",
      "epoch: 11, step: 200, loss_dataset_train: 0.0335133858025074\n",
      "epoch: 11, step: 400, loss_dataset_train: 0.04922414571046829\n",
      "epoch: 11, loss_dataset_test: 0.0686480700969696\n",
      "\n",
      "epoch: 12, step: 0, loss_dataset_train: 0.06884440034627914\n",
      "epoch: 12, step: 200, loss_dataset_train: 0.062444254755973816\n",
      "epoch: 12, step: 400, loss_dataset_train: 0.03419385105371475\n",
      "epoch: 12, loss_dataset_test: 0.06804322451353073\n",
      "\n",
      "epoch: 13, step: 0, loss_dataset_train: 0.04223005473613739\n",
      "epoch: 13, step: 200, loss_dataset_train: 0.038304999470710754\n",
      "epoch: 13, step: 400, loss_dataset_train: 0.06454075872898102\n",
      "epoch: 13, loss_dataset_test: 0.06317442655563354\n",
      "\n",
      "epoch: 14, step: 0, loss_dataset_train: 0.01392907090485096\n",
      "epoch: 14, step: 200, loss_dataset_train: 0.011549821123480797\n",
      "epoch: 14, step: 400, loss_dataset_train: 0.050431668758392334\n",
      "epoch: 14, loss_dataset_test: 0.06654141843318939\n",
      "\n",
      "epoch: 15, step: 0, loss_dataset_train: 0.041344620287418365\n",
      "epoch: 15, step: 200, loss_dataset_train: 0.11299039423465729\n",
      "epoch: 15, step: 400, loss_dataset_train: 0.024428674951195717\n",
      "epoch: 15, loss_dataset_test: 0.06226015463471413\n",
      "\n",
      "epoch: 16, step: 0, loss_dataset_train: 0.03626379370689392\n",
      "epoch: 16, step: 200, loss_dataset_train: 0.024154767394065857\n",
      "epoch: 16, step: 400, loss_dataset_train: 0.011771146208047867\n",
      "epoch: 16, loss_dataset_test: 0.0645337924361229\n",
      "\n",
      "epoch: 17, step: 0, loss_dataset_train: 0.021922484040260315\n",
      "epoch: 17, step: 200, loss_dataset_train: 0.01687830314040184\n",
      "epoch: 17, step: 400, loss_dataset_train: 0.03314145654439926\n",
      "epoch: 17, loss_dataset_test: 0.06100620701909065\n",
      "\n",
      "epoch: 18, step: 0, loss_dataset_train: 0.025843407958745956\n",
      "epoch: 18, step: 200, loss_dataset_train: 0.016351182013750076\n",
      "epoch: 18, step: 400, loss_dataset_train: 0.01610235497355461\n",
      "epoch: 18, loss_dataset_test: 0.06173764541745186\n",
      "\n",
      "epoch: 19, step: 0, loss_dataset_train: 0.024756114929914474\n",
      "epoch: 19, step: 200, loss_dataset_train: 0.0272783562541008\n",
      "epoch: 19, step: 400, loss_dataset_train: 0.05927141755819321\n",
      "epoch: 19, loss_dataset_test: 0.06097503751516342\n",
      "\n"
     ]
    }
   ],
   "source": [
    "# для каждой эпохи\n",
    "for epoch in range(n_epochs):\n",
    "    \n",
    "    # случайное разбиение обучающей выборки на батчи\n",
    "    trainloader = DataLoader(dataset_train, \n",
    "                             batch_size,\n",
    "                             shuffle=True, \n",
    "                             collate_fn=collate_fn, \n",
    "                             drop_last = True)\n",
    "    \n",
    "    # перевод модель в режим обучения\n",
    "    model.train()\n",
    "    # итератор по батчам (у метода DataLoader)\n",
    "    for i, batch in enumerate(trainloader):\n",
    "        # обнуление градиентов (в торче они накапливаются с каждым бэквордом)\n",
    "        optim.zero_grad()\n",
    "        # передача в модель батча - выполнение предсказания\n",
    "        predict = model(batch['data'].to(device))\n",
    "        # расчет функции потерь (по предсказанию и таргету батча)\n",
    "        loss = loss_func(predict, batch['target'].to(device))\n",
    "        # расчет градиентов (в торче работает autograd)\n",
    "        loss.backward()\n",
    "        # обновление весов (встроенный в оптимизатор метод)\n",
    "        optim.step()\n",
    "        # каждые 200 шагов выводим статистику по модели\n",
    "        if i % 200 == 0:\n",
    "            print(f'epoch: {epoch}, step: {i}, loss_dataset_train: {loss.item()}')\n",
    "    \n",
    "    # случайное разбиение тестовой выборки на батчи\n",
    "    testloader = DataLoader(dataset_test, \n",
    "                            batch_size=len(dataset_test.data),\n",
    "                            shuffle=True, \n",
    "                            collate_fn=collate_fn, \n",
    "                            drop_last = False)\n",
    "    \n",
    "    # перевод модель в режим инференса\n",
    "    model.eval()\n",
    "    for i, batch in enumerate(testloader):\n",
    "        # передача в модель батча (батч 1) - выполнение предсказания        \n",
    "        predict = model(batch['data'].to(device))\n",
    "        # расчет функции потерь (по предсказанию и таргету батча)\n",
    "        loss = loss_func(predict, batch['target'].to(device))\n",
    "        # выводим loss по тестовой выборке\n",
    "        print(f'epoch: {epoch}, loss_dataset_test: {loss.item()}')\n",
    "        print()"
   ]
  },
  {
   "cell_type": "markdown",
   "id": "6241c617-4ce0-4831-aaad-b1b8721378ee",
   "metadata": {},
   "source": [
    "Loss для тестовой выборки больше, чем для обучающей (что логично для распознавания картинок линейным слоем)"
   ]
  },
  {
   "cell_type": "markdown",
   "id": "fbf37e3d-5df6-4ee8-9cb6-9a183e8d8509",
   "metadata": {},
   "source": [
    "<style>\n",
    "mark{\n",
    "    background-color: red\n",
    "}\n",
    "</style>\n",
    "<mark> \n",
    "Посмотрим результаты предсказания на обучающей выборке и на тестовой выборках:</mark>\n"
   ]
  },
  {
   "cell_type": "code",
   "execution_count": 21,
   "id": "f7c987b5-88cb-43a8-ae19-516cb74d31f3",
   "metadata": {},
   "outputs": [],
   "source": [
    "# Функция вывода по номеру элемента (может быть случайным) изображения предсказанного и реального значения\n",
    "def result(train_or_test, n_item=None):\n",
    "    if train_or_test == \"train\":\n",
    "        if n_item == None:\n",
    "            n_item = torch.randint(0, len(dataset_train)-1, (1, 1)).squeeze().tolist()\n",
    "        else:\n",
    "            n_item = n_item\n",
    "        image = dataset_train.data[n_item].detach().numpy()\n",
    "        data = dataset_train.data[n_item].unsqueeze(0).view(1, -1).to(device).float()\n",
    "        target = dataset_train.targets[n_item].tolist()\n",
    "        print(f\"Обучающая выборка, элемент № {n_item}\")\n",
    "    elif train_or_test == \"test\":\n",
    "        if n_item == None:\n",
    "            n_item = torch.randint(0, len(dataset_test)-1, (1, 1)).squeeze().tolist()\n",
    "        else:\n",
    "            n_item = n_item\n",
    "        image = dataset_test.data[n_item].detach().numpy()\n",
    "        data = dataset_test.data[n_item].unsqueeze(0).view(1, -1).to(device).float()\n",
    "        target = dataset_test.targets[n_item].tolist()\n",
    "        print(f\"Тестовая выборка, элемент № {n_item}\")\n",
    "    else:\n",
    "        print(\"Нужно указать датасет: 'train' или 'test'\") \n",
    "    if train_or_test == \"train\" or train_or_test == \"test\":       \n",
    "        model.eval()\n",
    "        plt.imshow(image)\n",
    "        plt.show()\n",
    "        predict = torch.argmax(model(data)).squeeze().cpu().detach().tolist()\n",
    "        print(f\"predict: {predict}\")\n",
    "        print(f\"true:    {target}\")"
   ]
  },
  {
   "cell_type": "code",
   "execution_count": 22,
   "id": "aa169808-0330-4672-8511-932b5856df92",
   "metadata": {},
   "outputs": [
    {
     "name": "stdout",
     "output_type": "stream",
     "text": [
      "Обучающая выборка, элемент № 48255\n"
     ]
    },
    {
     "data": {
      "image/png": "[encoded data removed]",
      "text/plain": [
       "<Figure size 640x480 with 1 Axes>"
      ]
     },
     "metadata": {},
     "output_type": "display_data"
    },
    {
     "name": "stdout",
     "output_type": "stream",
     "text": [
      "predict: 9\n",
      "true:    9\n"
     ]
    }
   ],
   "source": [
    "result('train')"
   ]
  },
  {
   "cell_type": "code",
   "execution_count": 23,
   "id": "c41caee1-8fba-4f24-99d1-17d0f77ef2db",
   "metadata": {},
   "outputs": [
    {
     "name": "stdout",
     "output_type": "stream",
     "text": [
      "Тестовая выборка, элемент № 9778\n"
     ]
    },
    {
     "data": {
      "image/png": "[encoded data removed]",
      "text/plain": [
       "<Figure size 640x480 with 1 Axes>"
      ]
     },
     "metadata": {},
     "output_type": "display_data"
    },
    {
     "name": "stdout",
     "output_type": "stream",
     "text": [
      "predict: 6\n",
      "true:    6\n"
     ]
    }
   ],
   "source": [
    "result('test')"
   ]
  },
  {
   "cell_type": "code",
   "execution_count": null,
   "id": "11f3d309-980d-459a-99f8-b620f57598fc",
   "metadata": {},
   "outputs": [],
   "source": []
  },
  {
   "cell_type": "markdown",
   "id": "a27b1955-f54f-4037-b2be-3728b3bf8953",
   "metadata": {},
   "source": [
    "\n",
    "<style>\n",
    "mark{\n",
    "    background-color: red\n",
    "}\n",
    "</style>\n",
    "<mark> \n",
    "2. Обучить глубокую сверточную сеть на MNIST:</mark>\n",
    "\n"
   ]
  },
  {
   "cell_type": "markdown",
   "id": "3358de60-05af-480b-82ad-7136294deafa",
   "metadata": {},
   "source": [
    "<style>\n",
    "mark{\n",
    "    background-color: red\n",
    "}\n",
    "</style>\n",
    "<mark> \n",
    "Архитектура модели:</mark>\n"
   ]
  },
  {
   "cell_type": "code",
   "execution_count": 24,
   "id": "3c88ba5f-6433-47af-8102-95c46427c44b",
   "metadata": {},
   "outputs": [],
   "source": [
    "class ConvModel(nn.Module):\n",
    "  def __init__(self, input_ch, hidden_ch, output_dim, dropout_p=0.2):\n",
    "    super().__init__()\n",
    "    # уменьшит размер картинки в 2 раза\n",
    "    self.conv1 = nn.Conv2d(input_ch, hidden_ch, kernel_size=5, padding=2, stride=2) # число каналов на входе \n",
    "                                                                                    # число каналов на выходе\n",
    "                                                                                    # размер ядра, размер паддинга и страйд\n",
    "    self.bn1 = nn.BatchNorm2d(hidden_ch)                                            # батчнорм от предыдущего выхода\n",
    "    self.activation1 = nn.Sigmoid()\n",
    "    self.do1 = nn.Dropout(dropout_p)\n",
    "    self.conv2 = nn.Conv2d(hidden_ch, hidden_ch, kernel_size=3, padding=1, stride=1)\n",
    "    self.bn2 = nn.BatchNorm2d(hidden_ch)\n",
    "    self.activation2 = nn.Sigmoid()    \n",
    "    self.do2 = nn.Dropout(dropout_p)\n",
    "    self.conv3 = nn.Conv2d(hidden_ch, hidden_ch, kernel_size=3, padding=1, stride=1)\n",
    "    self.bn3 = nn.BatchNorm2d(hidden_ch)\n",
    "    self.activation3 = nn.Sigmoid()    \n",
    "    self.do3 = nn.Dropout(dropout_p)     \n",
    "    self.conv4 = nn.Conv2d(hidden_ch, 15, kernel_size=3, padding=1, stride=1)        # на выходе 5 каналов\n",
    "    self.classifier = nn.Linear(15 * 14 *14, output_dim)                             # на входе классификатора 5 каналов\n",
    "\n",
    "\n",
    "  def forward(self, x):\n",
    "    x = self.conv1(x)\n",
    "    x = self.bn1(x)\n",
    "    x = self.activation1(x)\n",
    "    x = self.do1(x)\n",
    "    x = self.conv2(x)\n",
    "    x = self.bn2(x)\n",
    "    x = self.activation2(x)\n",
    "    x = self.do2(x)\n",
    "    x = self.conv3(x)\n",
    "    x = self.bn3(x)\n",
    "    x = self.activation3(x)\n",
    "    x = self.do3(x)\n",
    "    x = self.conv4(x)\n",
    "    x = self.classifier(x.view(x.size(0), -1))  # на вход классификатора подаются batch_size векторов\n",
    "\n",
    "    return x"
   ]
  },
  {
   "cell_type": "markdown",
   "id": "5775c33e-7d2f-4b23-a6dd-b121f813d958",
   "metadata": {},
   "source": []
  },
  {
   "cell_type": "markdown",
   "id": "81ca3bc2-2840-4ff6-8343-e8653527ba9e",
   "metadata": {},
   "source": [
    "<style>\n",
    "mark{\n",
    "    background-color: red\n",
    "}\n",
    "</style>\n",
    "<mark> \n",
    "Загрузчикд данных </mark>\n",
    "остаётся тот же"
   ]
  },
  {
   "cell_type": "markdown",
   "id": "89069351-488a-4b38-94d4-e8bfb76cc614",
   "metadata": {},
   "source": [
    "\n",
    "<style>\n",
    "mark{\n",
    "    background-color: red\n",
    "}\n",
    "</style>\n",
    "<mark> \n",
    "Формирование батча </mark>"
   ]
  },
  {
   "cell_type": "code",
   "execution_count": 26,
   "id": "0b72f98f-8831-47e8-9590-5c2ad1b19582",
   "metadata": {},
   "outputs": [],
   "source": [
    "def collate_fn_conv(data: list):\n",
    "  # data = [(pic, target)...]\n",
    "  pics = []\n",
    "  target = []\n",
    "  for item in data:\n",
    "    pics.append(numpy.array(item[0]))\n",
    "    target.append(item[1])\n",
    "  pics = torch.from_numpy(numpy.array(pics)).float() / 255 # B x W x H\n",
    "  target = torch.from_numpy(numpy.array(target))\n",
    "\n",
    "  return {\n",
    "      # метод unsqueeze добавляет метод измерения в тензоре\n",
    "      # сверточный слой ждет число каналов (изображения подаются поканально)\n",
    "      'data': pics.unsqueeze(1), # B x 1 x W x H\n",
    "      'target': target.long(),\n",
    "      }"
   ]
  },
  {
   "cell_type": "markdown",
   "id": "282d4dc0-c710-4504-b0e6-58f9fceedb77",
   "metadata": {},
   "source": [
    "Киберпараметры:"
   ]
  },
  {
   "cell_type": "code",
   "execution_count": 27,
   "id": "b5ff1805-0d9b-4f76-aa88-7e17dca99fce",
   "metadata": {},
   "outputs": [],
   "source": [
    "input_ch = 1\n",
    "hidden_ch = 128\n",
    "out_dim = 10\n",
    "device_id = -1\n",
    "device = 'mps' if device_id == -1 else f'cuda:{device_id}'\n",
    "n_epochs = 30\n",
    "batch_size = 128"
   ]
  },
  {
   "cell_type": "code",
   "execution_count": null,
   "id": "ed1d2e74-859b-4623-9a2d-35901eef17cf",
   "metadata": {},
   "outputs": [],
   "source": []
  },
  {
   "cell_type": "markdown",
   "id": "c4e57dea-f8df-4605-8210-741819739fb9",
   "metadata": {},
   "source": [
    "<style>\n",
    "mark{\n",
    "    background-color: red\n",
    "}\n",
    "</style>\n",
    "<mark> Инициализация модели, задание оптимизатора и функции потерь:</mark>\n"
   ]
  },
  {
   "cell_type": "code",
   "execution_count": 28,
   "id": "19974e4f-b11d-4629-938b-420f380ac959",
   "metadata": {},
   "outputs": [],
   "source": [
    "model_conv = ConvModel(input_ch, hidden_ch, out_dim).to(device)\n",
    "optim = torch.optim.Adam(model_conv.parameters())\n",
    "loss_func = nn.CrossEntropyLoss()"
   ]
  },
  {
   "cell_type": "code",
   "execution_count": 29,
   "id": "4a89a02d-b8d3-4f34-91f0-20a7c509dea9",
   "metadata": {},
   "outputs": [
    {
     "name": "stdout",
     "output_type": "stream",
     "text": [
      "epoch: 0, step: 0, loss_dataset_train: 2.334397077560425\n",
      "epoch: 0, step: 200, loss_dataset_train: 0.5737944841384888\n",
      "epoch: 0, step: 400, loss_dataset_train: 0.19787417352199554\n",
      "epoch: 0, loss_dataset_test: 0.2735842764377594\n",
      "\n",
      "epoch: 1, step: 0, loss_dataset_train: 0.31841403245925903\n",
      "epoch: 1, step: 200, loss_dataset_train: 0.10988953709602356\n",
      "epoch: 1, step: 400, loss_dataset_train: 0.1397686004638672\n",
      "epoch: 1, loss_dataset_test: 0.10088557004928589\n",
      "\n",
      "epoch: 2, step: 0, loss_dataset_train: 0.17355592548847198\n",
      "epoch: 2, step: 200, loss_dataset_train: 0.05518880486488342\n",
      "epoch: 2, step: 400, loss_dataset_train: 0.0887857973575592\n",
      "epoch: 2, loss_dataset_test: 0.08623118698596954\n",
      "\n",
      "epoch: 3, step: 0, loss_dataset_train: 0.10342980921268463\n",
      "epoch: 3, step: 200, loss_dataset_train: 0.11309327185153961\n",
      "epoch: 3, step: 400, loss_dataset_train: 0.17726311087608337\n",
      "epoch: 3, loss_dataset_test: 0.06149950623512268\n",
      "\n",
      "epoch: 4, step: 0, loss_dataset_train: 0.05011188983917236\n",
      "epoch: 4, step: 200, loss_dataset_train: 0.04486663639545441\n",
      "epoch: 4, step: 400, loss_dataset_train: 0.07852479070425034\n",
      "epoch: 4, loss_dataset_test: 0.056776195764541626\n",
      "\n",
      "epoch: 5, step: 0, loss_dataset_train: 0.09954272210597992\n",
      "epoch: 5, step: 200, loss_dataset_train: 0.09391312301158905\n",
      "epoch: 5, step: 400, loss_dataset_train: 0.06114232912659645\n",
      "epoch: 5, loss_dataset_test: 0.04673267900943756\n",
      "\n",
      "epoch: 6, step: 0, loss_dataset_train: 0.016429930925369263\n",
      "epoch: 6, step: 200, loss_dataset_train: 0.03697950020432472\n",
      "epoch: 6, step: 400, loss_dataset_train: 0.05482068285346031\n",
      "epoch: 6, loss_dataset_test: 0.04826352372765541\n",
      "\n",
      "epoch: 7, step: 0, loss_dataset_train: 0.061304666101932526\n",
      "epoch: 7, step: 200, loss_dataset_train: 0.10140521824359894\n",
      "epoch: 7, step: 400, loss_dataset_train: 0.00787333957850933\n",
      "epoch: 7, loss_dataset_test: 0.055837713181972504\n",
      "\n",
      "epoch: 8, step: 0, loss_dataset_train: 0.04841316118836403\n",
      "epoch: 8, step: 200, loss_dataset_train: 0.07867404818534851\n",
      "epoch: 8, step: 400, loss_dataset_train: 0.060384105890989304\n",
      "epoch: 8, loss_dataset_test: 0.038997482508420944\n",
      "\n",
      "epoch: 9, step: 0, loss_dataset_train: 0.07121950387954712\n",
      "epoch: 9, step: 200, loss_dataset_train: 0.020850760862231255\n",
      "epoch: 9, step: 400, loss_dataset_train: 0.02696826122701168\n",
      "epoch: 9, loss_dataset_test: 0.04492757096886635\n",
      "\n",
      "epoch: 10, step: 0, loss_dataset_train: 0.03703799843788147\n",
      "epoch: 10, step: 200, loss_dataset_train: 0.13449889421463013\n",
      "epoch: 10, step: 400, loss_dataset_train: 0.026909828186035156\n",
      "epoch: 10, loss_dataset_test: 0.03947903588414192\n",
      "\n",
      "epoch: 11, step: 0, loss_dataset_train: 0.05631188303232193\n",
      "epoch: 11, step: 200, loss_dataset_train: 0.04361556097865105\n",
      "epoch: 11, step: 400, loss_dataset_train: 0.035520561039447784\n",
      "epoch: 11, loss_dataset_test: 0.041169244796037674\n",
      "\n",
      "epoch: 12, step: 0, loss_dataset_train: 0.08693371713161469\n",
      "epoch: 12, step: 200, loss_dataset_train: 0.043993815779685974\n",
      "epoch: 12, step: 400, loss_dataset_train: 0.04564101994037628\n",
      "epoch: 12, loss_dataset_test: 0.03427619859576225\n",
      "\n",
      "epoch: 13, step: 0, loss_dataset_train: 0.10075327754020691\n",
      "epoch: 13, step: 200, loss_dataset_train: 0.06439671665430069\n",
      "epoch: 13, step: 400, loss_dataset_train: 0.10835176706314087\n",
      "epoch: 13, loss_dataset_test: 0.03958822786808014\n",
      "\n",
      "epoch: 14, step: 0, loss_dataset_train: 0.04058506339788437\n",
      "epoch: 14, step: 200, loss_dataset_train: 0.07357465475797653\n",
      "epoch: 14, step: 400, loss_dataset_train: 0.0571126751601696\n",
      "epoch: 14, loss_dataset_test: 0.032895494252443314\n",
      "\n",
      "epoch: 15, step: 0, loss_dataset_train: 0.06906010210514069\n",
      "epoch: 15, step: 200, loss_dataset_train: 0.04685576632618904\n",
      "epoch: 15, step: 400, loss_dataset_train: 0.06696157157421112\n",
      "epoch: 15, loss_dataset_test: 0.03795319050550461\n",
      "\n",
      "epoch: 16, step: 0, loss_dataset_train: 0.037280794233083725\n",
      "epoch: 16, step: 200, loss_dataset_train: 0.007058344781398773\n",
      "epoch: 16, step: 400, loss_dataset_train: 0.008447661064565182\n",
      "epoch: 16, loss_dataset_test: 0.03606819361448288\n",
      "\n",
      "epoch: 17, step: 0, loss_dataset_train: 0.007031348999589682\n",
      "epoch: 17, step: 200, loss_dataset_train: 0.022301580756902695\n",
      "epoch: 17, step: 400, loss_dataset_train: 0.013559717684984207\n",
      "epoch: 17, loss_dataset_test: 0.02992194890975952\n",
      "\n",
      "epoch: 18, step: 0, loss_dataset_train: 0.05373888462781906\n",
      "epoch: 18, step: 200, loss_dataset_train: 0.08874309062957764\n",
      "epoch: 18, step: 400, loss_dataset_train: 0.03543051704764366\n",
      "epoch: 18, loss_dataset_test: 0.02957942895591259\n",
      "\n",
      "epoch: 19, step: 0, loss_dataset_train: 0.0024058364797383547\n",
      "epoch: 19, step: 200, loss_dataset_train: 0.10058599710464478\n",
      "epoch: 19, step: 400, loss_dataset_train: 0.08775070309638977\n",
      "epoch: 19, loss_dataset_test: 0.051982514560222626\n",
      "\n",
      "epoch: 20, step: 0, loss_dataset_train: 0.031386978924274445\n",
      "epoch: 20, step: 200, loss_dataset_train: 0.007627093233168125\n",
      "epoch: 20, step: 400, loss_dataset_train: 0.00951036810874939\n",
      "epoch: 20, loss_dataset_test: 0.04351870343089104\n",
      "\n",
      "epoch: 21, step: 0, loss_dataset_train: 0.08304861187934875\n",
      "epoch: 21, step: 200, loss_dataset_train: 0.007528242655098438\n",
      "epoch: 21, step: 400, loss_dataset_train: 0.005523880943655968\n",
      "epoch: 21, loss_dataset_test: 0.03301765024662018\n",
      "\n",
      "epoch: 22, step: 0, loss_dataset_train: 0.026326671242713928\n",
      "epoch: 22, step: 200, loss_dataset_train: 0.07938380539417267\n",
      "epoch: 22, step: 400, loss_dataset_train: 0.022523120045661926\n",
      "epoch: 22, loss_dataset_test: 0.03190872073173523\n",
      "\n",
      "epoch: 23, step: 0, loss_dataset_train: 0.03677292540669441\n",
      "epoch: 23, step: 200, loss_dataset_train: 0.07850904762744904\n",
      "epoch: 23, step: 400, loss_dataset_train: 0.026931308209896088\n",
      "epoch: 23, loss_dataset_test: 0.0322728231549263\n",
      "\n",
      "epoch: 24, step: 0, loss_dataset_train: 0.017591699957847595\n",
      "epoch: 24, step: 200, loss_dataset_train: 0.011533229611814022\n",
      "epoch: 24, step: 400, loss_dataset_train: 0.03402303531765938\n",
      "epoch: 24, loss_dataset_test: 0.04777831584215164\n",
      "\n",
      "epoch: 25, step: 0, loss_dataset_train: 0.06266352534294128\n",
      "epoch: 25, step: 200, loss_dataset_train: 0.04592233523726463\n",
      "epoch: 25, step: 400, loss_dataset_train: 0.002085446147248149\n",
      "epoch: 25, loss_dataset_test: 0.048305444419384\n",
      "\n",
      "epoch: 26, step: 0, loss_dataset_train: 0.07386450469493866\n",
      "epoch: 26, step: 200, loss_dataset_train: 0.05852004885673523\n",
      "epoch: 26, step: 400, loss_dataset_train: 0.01598402112722397\n",
      "epoch: 26, loss_dataset_test: 0.0367884524166584\n",
      "\n",
      "epoch: 27, step: 0, loss_dataset_train: 0.002874108962714672\n",
      "epoch: 27, step: 200, loss_dataset_train: 0.036812637001276016\n",
      "epoch: 27, step: 400, loss_dataset_train: 0.028604604303836823\n",
      "epoch: 27, loss_dataset_test: 0.055598191916942596\n",
      "\n",
      "epoch: 28, step: 0, loss_dataset_train: 0.010355934500694275\n",
      "epoch: 28, step: 200, loss_dataset_train: 0.01808515191078186\n",
      "epoch: 28, step: 400, loss_dataset_train: 0.07509294152259827\n",
      "epoch: 28, loss_dataset_test: 0.04087281972169876\n",
      "\n",
      "epoch: 29, step: 0, loss_dataset_train: 0.09239552915096283\n",
      "epoch: 29, step: 200, loss_dataset_train: 0.0026548930909484625\n",
      "epoch: 29, step: 400, loss_dataset_train: 0.006533090025186539\n",
      "epoch: 29, loss_dataset_test: 0.03444024175405502\n",
      "\n"
     ]
    }
   ],
   "source": [
    "# для каждой эпохи\n",
    "for epoch in range(n_epochs):\n",
    "    \n",
    "    # случайное разбиение обучающей выборки на батчи\n",
    "    trainloader = DataLoader(dataset_train, \n",
    "                             batch_size,\n",
    "                             shuffle=True, \n",
    "                             collate_fn=collate_fn_conv, \n",
    "                             drop_last = True)\n",
    "    \n",
    "    # перевод модель в режим обучения\n",
    "    model_conv.train()\n",
    "    # итератор по батчам (у метода DataLoader)\n",
    "    for i, batch in enumerate(trainloader):\n",
    "        # обнуление градиентов (в торче они накапливаются с каждым бэквордом)\n",
    "        optim.zero_grad()\n",
    "        # передача в модель батча - выполнение предсказания\n",
    "        predict = model_conv(batch['data'].to(device))\n",
    "        # расчет функции потерь (по предсказанию и таргету батча)\n",
    "        loss = loss_func(predict, batch['target'].to(device))\n",
    "        # расчет градиентов (в торче работает autograd)\n",
    "        loss.backward()\n",
    "        # обновление весов (встроенный в оптимизатор метод)\n",
    "        optim.step()\n",
    "        # каждые 200 шагов выводим статистику по модели\n",
    "        if i % 200 == 0:\n",
    "            print(f'epoch: {epoch}, step: {i}, loss_dataset_train: {loss.item()}')\n",
    "    \n",
    "    # случайное разбиение тестовой выборки на батчи\n",
    "    testloader = DataLoader(dataset_test, \n",
    "                            batch_size=len(dataset_test.data),\n",
    "                            shuffle=True, \n",
    "                            collate_fn=collate_fn_conv, \n",
    "                            drop_last = False)\n",
    "    \n",
    "    # перевод модель в режим инференса\n",
    "    model_conv.eval()\n",
    "    for i, batch in enumerate(testloader):\n",
    "        # передача в модель батча (батч 1) - выполнение предсказания        \n",
    "        predict = model_conv(batch['data'].to(device))\n",
    "        # расчет функции потерь (по предсказанию и таргету батча)\n",
    "        loss = loss_func(predict, batch['target'].to(device))\n",
    "        # выводим loss по тестовой выборке\n",
    "        print(f'epoch: {epoch}, loss_dataset_test: {loss.item()}')\n",
    "        print()"
   ]
  },
  {
   "cell_type": "code",
   "execution_count": null,
   "id": "04ae3ee4-f36d-4071-97d1-ed0e6eaf4de9",
   "metadata": {},
   "outputs": [],
   "source": []
  },
  {
   "cell_type": "markdown",
   "id": "eeeb5958-6afc-479e-bf09-cfe5a97edc7a",
   "metadata": {},
   "source": [
    "<style>\n",
    "mark{\n",
    "    background-color: red\n",
    "}\n",
    "</style>\n",
    "<mark> \n",
    "Посмотрим результаты предсказания на обучающей выборке и на тестовой выборках:</mark>\n"
   ]
  },
  {
   "cell_type": "code",
   "execution_count": 32,
   "id": "c30ec4d6-48f2-48b6-8e1b-405ee8722127",
   "metadata": {},
   "outputs": [],
   "source": [
    "# Функция вывода по номеру элемента (может быть случайным) изображения предсказанного и реального значения\n",
    "def result(model, train_or_test, n_item=None):\n",
    "    if train_or_test == \"train\":\n",
    "        if n_item == None:\n",
    "            n_item = torch.randint(0, len(dataset_train)-1, (1, 1)).squeeze().tolist()\n",
    "        else:\n",
    "            n_item = n_item\n",
    "        image = dataset_train.data[n_item].detach().numpy()\n",
    "        data = dataset_train.data[n_item].unsqueeze(0).unsqueeze(0).to(device).float()\n",
    "        target = dataset_train.targets[n_item].tolist()\n",
    "        print(f\"Обучающая выборка, элемент № {n_item}\")\n",
    "    elif train_or_test == \"test\":\n",
    "        if n_item == None:\n",
    "            n_item = torch.randint(0, len(dataset_test)-1, (1, 1)).squeeze().tolist()\n",
    "        else:\n",
    "            n_item = n_item\n",
    "        image = dataset_test.data[n_item].detach().numpy()\n",
    "        #data = dataset_test.data[n_item].unsqueeze(0).view(1, -1).to(device).float()\n",
    "        data = dataset_test.data[n_item].unsqueeze(0).unsqueeze(0).to(device).float()\n",
    "        target = dataset_test.targets[n_item].tolist()\n",
    "        print(f\"Тестовая выборка, элемент № {n_item}\")\n",
    "    else:\n",
    "        print(\"Нужно указать датасет: 'train' или 'test'\") \n",
    "    if train_or_test == \"train\" or train_or_test == \"test\":       \n",
    "        model.eval()\n",
    "        plt.imshow(image)\n",
    "        plt.show()\n",
    "        predict = torch.argmax(model_conv(data)).squeeze().cpu().detach().tolist()\n",
    "        print(f\"predict: {predict}\")\n",
    "        print(f\"true:    {target}\")"
   ]
  },
  {
   "cell_type": "code",
   "execution_count": 33,
   "id": "673e3807-df73-46f8-babe-912224d05d57",
   "metadata": {},
   "outputs": [
    {
     "name": "stdout",
     "output_type": "stream",
     "text": [
      "Обучающая выборка, элемент № 42017\n"
     ]
    },
    {
     "data": {
      "image/png": "[encoded data removed]",
      "text/plain": [
       "<Figure size 640x480 with 1 Axes>"
      ]
     },
     "metadata": {},
     "output_type": "display_data"
    },
    {
     "name": "stdout",
     "output_type": "stream",
     "text": [
      "predict: 9\n",
      "true:    9\n"
     ]
    }
   ],
   "source": [
    "result(model_conv, 'train')"
   ]
  },
  {
   "cell_type": "code",
   "execution_count": 34,
   "id": "34d1daff-d602-4246-9eaf-d59bceb9f0e7",
   "metadata": {},
   "outputs": [
    {
     "name": "stdout",
     "output_type": "stream",
     "text": [
      "Тестовая выборка, элемент № 3512\n"
     ]
    },
    {
     "data": {
      "image/png": "[encoded data removed]",
      "text/plain": [
       "<Figure size 640x480 with 1 Axes>"
      ]
     },
     "metadata": {},
     "output_type": "display_data"
    },
    {
     "name": "stdout",
     "output_type": "stream",
     "text": [
      "predict: 0\n",
      "true:    0\n"
     ]
    }
   ],
   "source": [
    "result(model_conv, 'test')"
   ]
  },
  {
   "cell_type": "code",
   "execution_count": null,
   "id": "8be94f64-ec04-495f-8039-a490c0cbe589",
   "metadata": {},
   "outputs": [],
   "source": []
  },
  {
   "cell_type": "code",
   "execution_count": null,
   "id": "a495a950-b9f9-4d20-89e7-6bdf13c74779",
   "metadata": {},
   "outputs": [],
   "source": []
  },
  {
   "cell_type": "code",
   "execution_count": null,
   "id": "edb9fff4-fbf1-463c-88c4-f851f8dd6973",
   "metadata": {},
   "outputs": [],
   "source": []
  },
  {
   "cell_type": "code",
   "execution_count": null,
   "id": "f1087de6-ad54-4e58-a08c-84743d9027f8",
   "metadata": {},
   "outputs": [],
   "source": []
  },
  {
   "cell_type": "code",
   "execution_count": null,
   "id": "b846fb20-4b6f-45e2-bd8a-b92f5283dcc6",
   "metadata": {},
   "outputs": [],
   "source": []
  }
 ],
 "metadata": {
  "kernelspec": {
   "display_name": "Python 3 (ipykernel)",
   "language": "python",
   "name": "python3"
  },
  "language_info": {
   "codemirror_mode": {
    "name": "ipython",
    "version": 3
   },
   "file_extension": ".py",
   "mimetype": "text/x-python",
   "name": "python",
   "nbconvert_exporter": "python",
   "pygments_lexer": "ipython3",
   "version": "3.11.7"
  }
 },
 "nbformat": 4,
 "nbformat_minor": 5
}
